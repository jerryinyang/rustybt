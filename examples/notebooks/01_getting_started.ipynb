{
 "cells": [
  {
   "cell_type": "markdown",
   "metadata": {},
   "source": [
    "# Getting Started with RustyBT\n",
    "\n",
    "This notebook provides a quick introduction to backtesting with RustyBT.\n",
    "\n",
    "**What you'll learn:**\n",
    "- Setting up the notebook environment\n",
    "- Creating a simple trading strategy\n",
    "- Running a backtest\n",
    "- Visualizing results with interactive charts\n",
    "- Exporting data for analysis\n",
    "\n",
    "**Estimated runtime:** 2-3 minutes"
   ]
  },
  {
   "cell_type": "markdown",
   "metadata": {},
   "source": [
    "## 1. Setup\n",
    "\n",
    "First, let's configure the notebook environment and import required libraries."
   ]
  },
  {
   "cell_type": "code",
   "execution_count": null,
   "metadata": {},
   "outputs": [],
   "source": [
    "# Setup notebook environment\n",
    "from rustybt.analytics import setup_notebook\n",
    "\n",
    "setup_notebook()\n",
    "\n",
    "# Import libraries\n",
    "import pandas as pd\n",
    "from datetime import datetime\n",
    "\n",
    "from rustybt import TradingAlgorithm\n",
    "from rustybt.analytics import (\n",
    "    plot_equity_curve,\n",
    "    plot_drawdown,\n",
    "    plot_returns_distribution\n",
    ")\n",
    "from rustybt.data.bundles import register\n",
    "from rustybt.finance.commission import PerShare\n",
    "from rustybt.finance.slippage import VolumeShareSlippage\n",
    "from rustybt.api import (\n",
    "    order,\n",
    "    symbol,\n",
    "    set_slippage,\n",
    "    set_commission,\n",
    ")"
   ]
  },
  {
   "cell_type": "markdown",
   "metadata": {},
   "source": [
    "## 2. Create a Simple Strategy\n",
    "\n",
    "Let's create a basic buy-and-hold strategy that purchases a stock at the start and holds it."
   ]
  },
  {
   "cell_type": "code",
   "execution_count": null,
   "metadata": {},
   "outputs": [],
   "source": [
    "class BuyAndHold(TradingAlgorithm):\n",
    "    \"\"\"Simple buy and hold strategy.\"\"\"\n",
    "    \n",
    "    def initialize(self, context):\n",
    "        \"\"\"Initialize strategy - runs once at start.\"\"\"\n",
    "        # Configure trading costs\n",
    "        set_commission(PerShare(cost=0.001, min_trade_cost=1.0))\n",
    "        set_slippage(VolumeShareSlippage(volume_limit=0.025, price_impact=0.1))\n",
    "        \n",
    "        # Store the asset we want to trade\n",
    "        context.asset = symbol('AAPL')\n",
    "        context.bought = False\n",
    "        \n",
    "        print(f\"Strategy initialized. Trading: {context.asset.symbol}\")\n",
    "    \n",
    "    def handle_data(self, context, data):\n",
    "        \"\"\"Called every trading period.\"\"\"\n",
    "        # Buy once at the start\n",
    "        if not context.bought:\n",
    "            # Get current price\n",
    "            price = data.current(context.asset, 'close')\n",
    "            \n",
    "            # Calculate shares to buy (invest 100% of capital)\n",
    "            cash = context.portfolio.cash\n",
    "            shares = int(cash / price)\n",
    "            \n",
    "            if shares > 0:\n",
    "                order(context.asset, shares)\n",
    "                print(f\"Bought {shares} shares at ${price:.2f}\")\n",
    "                context.bought = True"
   ]
  },
  {
   "cell_type": "markdown",
   "metadata": {},
   "source": [
    "## 3. Run Backtest\n",
    "\n",
    "Now let's run the strategy over historical data."
   ]
  },
  {
   "cell_type": "code",
   "execution_count": null,
   "metadata": {},
   "outputs": [],
   "source": [
    "# Note: This requires setting up a data bundle first\n",
    "# For this example, we'll show the structure. In practice, you'd need:\n",
    "# 1. Ingest data using: rustybt ingest -b <bundle-name>\n",
    "# 2. Or use the data ingestion notebooks (02_data_ingestion.ipynb)\n",
    "\n",
    "print(\"To run this backtest:\")\n",
    "print(\"1. First ingest data: rustybt ingest -b quantopian-quandl\")\n",
    "print(\"2. Or use yfinance adapter (see 02_data_ingestion.ipynb)\")\n",
    "print(\"\")\n",
    "print(\"Example backtest execution:\")\n",
    "print(\"\")\n",
    "print(\"from rustybt import run_algorithm\")\n",
    "print(\"\")\n",
    "print(\"results = run_algorithm(\")\n",
    "print(\"    start=pd.Timestamp('2020-01-01', tz='UTC'),\")\n",
    "print(\"    end=pd.Timestamp('2023-12-31', tz='UTC'),\")\n",
    "print(\"    initialize=BuyAndHold.initialize,\")\n",
    "print(\"    handle_data=BuyAndHold.handle_data,\")\n",
    "print(\"    capital_base=100000,\")\n",
    "print(\"    bundle='quantopian-quandl'\")\n",
    "print(\")\")"
   ]
  },
  {
   "cell_type": "markdown",
   "metadata": {},
   "source": [
    "## 4. Visualize Results\n",
    "\n",
    "Once you have results, you can create interactive visualizations."
   ]
  },
  {
   "cell_type": "code",
   "execution_count": null,
   "metadata": {},
   "outputs": [],
   "source": [
    "# After running backtest (see above), visualize results:\n",
    "\n",
    "# Assuming you have 'results' from running the backtest:\n",
    "# results = run_algorithm(...)\n",
    "\n",
    "# Plot equity curve with drawdown\n",
    "# fig = plot_equity_curve(results, show_drawdown=True)\n",
    "# fig.show()\n",
    "\n",
    "# Plot returns distribution\n",
    "# fig = plot_returns_distribution(results)\n",
    "# fig.show()\n",
    "\n",
    "print(\"Visualization examples:\")\n",
    "print(\"\")\n",
    "print(\"# Equity curve with drawdown\")\n",
    "print(\"plot_equity_curve(results, show_drawdown=True).show()\")\n",
    "print(\"\")\n",
    "print(\"# Returns distribution\")\n",
    "print(\"plot_returns_distribution(results).show()\")\n",
    "print(\"\")\n",
    "print(\"# Dark theme\")\n",
    "print(\"plot_equity_curve(results, theme='dark').show()\")"
   ]
  },
  {
   "cell_type": "markdown",
   "metadata": {},
   "source": [
    "## 5. Analyze Performance Metrics\n",
    "\n",
    "View key performance metrics from the results DataFrame."
   ]
  },
  {
   "cell_type": "code",
   "execution_count": null,
   "metadata": {},
   "outputs": [],
   "source": [
    "# After running backtest:\n",
    "# Display key metrics\n",
    "# print(\"Performance Summary:\")\n",
    "# print(f\"Total Return: {results['returns'].sum():.2%}\")\n",
    "# print(f\"Sharpe Ratio: {results['sharpe'].iloc[-1]:.2f}\")\n",
    "# print(f\"Max Drawdown: {results['max_drawdown'].min():.2%}\")\n",
    "# print(f\"Final Portfolio Value: ${results['portfolio_value'].iloc[-1]:,.2f}\")\n",
    "\n",
    "print(\"Performance metrics available in results DataFrame:\")\n",
    "print(\"- portfolio_value: Total portfolio value over time\")\n",
    "print(\"- returns: Daily returns\")\n",
    "print(\"- sharpe: Sharpe ratio\")\n",
    "print(\"- max_drawdown: Maximum drawdown\")\n",
    "print(\"- positions: Current positions\")\n",
    "print(\"- transactions: Trade history\")"
   ]
  },
  {
   "cell_type": "markdown",
   "metadata": {},
   "source": [
    "## 6. Export Data\n",
    "\n",
    "Export results to different formats for further analysis."
   ]
  },
  {
   "cell_type": "code",
   "execution_count": null,
   "metadata": {},
   "outputs": [],
   "source": [
    "# Export to Polars for high-performance analysis\n",
    "# import polars as pl\n",
    "# results_pl = pl.from_pandas(results)\n",
    "\n",
    "# Save to CSV\n",
    "# results.to_csv('backtest_results.csv')\n",
    "\n",
    "# Save to Parquet (efficient columnar format)\n",
    "# results.to_parquet('backtest_results.parquet')\n",
    "\n",
    "print(\"Export options:\")\n",
    "print(\"\")\n",
    "print(\"# To Polars DataFrame\")\n",
    "print(\"results_pl = pl.from_pandas(results)\")\n",
    "print(\"\")\n",
    "print(\"# To CSV\")\n",
    "print(\"results.to_csv('backtest_results.csv')\")\n",
    "print(\"\")\n",
    "print(\"# To Parquet\")\n",
    "print(\"results.to_parquet('backtest_results.parquet')\")"
   ]
  },
  {
   "cell_type": "markdown",
   "metadata": {},
   "source": [
    "## Next Steps\n",
    "\n",
    "Now that you understand the basics, explore:\n",
    "\n",
    "1. **02_data_ingestion.ipynb** - Learn how to fetch data from various sources\n",
    "2. **03_strategy_development.ipynb** - Build more sophisticated strategies\n",
    "3. **04_performance_analysis.ipynb** - Deep dive into performance metrics\n",
    "4. **10_full_workflow.ipynb** - Complete end-to-end workflow\n",
    "\n",
    "## Key Takeaways\n",
    "\n",
    "- ✅ RustyBT provides a clean API for strategy development\n",
    "- ✅ Interactive visualizations make analysis easy\n",
    "- ✅ Results can be exported to any format\n",
    "- ✅ Built-in support for realistic trading costs\n",
    "- ✅ Jupyter notebook integration with progress bars and async support"
   ]
  }
 ],
 "metadata": {
  "kernelspec": {
   "display_name": "Python 3",
   "language": "python",
   "name": "python3"
  },
  "language_info": {
   "codemirror_mode": {
    "name": "ipython",
    "version": 3
   },
   "file_extension": ".py",
   "mimetype": "text/x-python",
   "name": "python",
   "nbconvert_exporter": "python",
   "pygments_lexer": "ipython3",
   "version": "3.12.0"
  }
 },
 "nbformat": 4,
 "nbformat_minor": 4
}
