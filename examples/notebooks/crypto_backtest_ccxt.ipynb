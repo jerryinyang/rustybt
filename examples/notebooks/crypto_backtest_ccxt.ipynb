{
 "cells": [
  {
   "cell_type": "markdown",
   "metadata": {},
   "source": [
    "# Crypto Backtesting with CCXT Data Adapter\n",
    "\n",
    "This notebook demonstrates how to use the CCXTAdapter to fetch cryptocurrency data from multiple exchanges and perform a simple backtesting strategy.\n",
    "\n",
    "## Features Demonstrated:\n",
    "- Fetching crypto OHLCV data from Binance, Coinbase, and Kraken\n",
    "- Data validation and schema verification\n",
    "- Multi-exchange price comparison\n",
    "- Simple moving average crossover strategy\n",
    "- Performance metrics calculation"
   ]
  },
  {
   "cell_type": "code",
   "execution_count": null,
   "metadata": {},
   "outputs": [],
   "source": [
    "# Import required libraries\n",
    "import asyncio\n",
    "from decimal import Decimal\n",
    "import pandas as pd\n",
    "import polars as pl\n",
    "import matplotlib.pyplot as plt\n",
    "\n",
    "from rustybt.data.adapters import CCXTAdapter"
   ]
  },
  {
   "cell_type": "markdown",
   "metadata": {},
   "source": [
    "## 1. Initialize CCXTAdapter\n",
    "\n",
    "Create adapters for different exchanges. By default, CCXT uses spot markets."
   ]
  },
  {
   "cell_type": "code",
   "execution_count": null,
   "metadata": {},
   "outputs": [],
   "source": [
    "# Initialize adapters for different exchanges\n",
    "binance_adapter = CCXTAdapter(exchange_id='binance')\n",
    "coinbase_adapter = CCXTAdapter(exchange_id='coinbase')\n",
    "kraken_adapter = CCXTAdapter(exchange_id='kraken')\n",
    "\n",
    "print(f\"Binance adapter initialized: {binance_adapter.name}\")\n",
    "print(f\"Coinbase adapter initialized: {coinbase_adapter.name}\")\n",
    "print(f\"Kraken adapter initialized: {kraken_adapter.name}\")"
   ]
  },
  {
   "cell_type": "markdown",
   "metadata": {},
   "source": [
    "## 2. Fetch BTC/USDT Data from Binance\n",
    "\n",
    "Fetch 30 days of hourly BTC/USDT data from Binance."
   ]
  },
  {
   "cell_type": "code",
   "execution_count": null,
   "metadata": {},
   "outputs": [],
   "source": [
    "# Fetch BTC/USDT data from Binance\n",
    "btc_data = await binance_adapter.fetch(\n",
    "    symbols=['BTC/USDT'],\n",
    "    start_date=pd.Timestamp('2024-01-01'),\n",
    "    end_date=pd.Timestamp('2024-01-31'),\n",
    "    resolution='1h'\n",
    ")\n",
    "\n",
    "print(f\"Fetched {len(btc_data)} rows\")\n",
    "print(f\"\\nData schema:\")\n",
    "print(btc_data.schema)\n",
    "print(f\"\\nFirst 5 rows:\")\n",
    "print(btc_data.head())"
   ]
  },
  {
   "cell_type": "markdown",
   "metadata": {},
   "source": [
    "## 3. Validate Data Quality\n",
    "\n",
    "Verify OHLCV relationships and data integrity."
   ]
  },
  {
   "cell_type": "code",
   "execution_count": null,
   "metadata": {},
   "outputs": [],
   "source": [
    "# Validate data\n",
    "try:\n",
    "    binance_adapter.validate(btc_data)\n",
    "    print(\"✅ Data validation passed!\")\n",
    "    print(f\"   - All OHLCV relationships valid\")\n",
    "    print(f\"   - No NULL values\")\n",
    "    print(f\"   - Timestamps sorted\")\n",
    "    print(f\"   - No duplicate timestamps\")\n",
    "except Exception as e:\n",
    "    print(f\"❌ Validation failed: {e}\")"
   ]
  },
  {
   "cell_type": "markdown",
   "metadata": {},
   "source": [
    "## 4. Multi-Exchange Price Comparison\n",
    "\n",
    "Compare BTC prices across Binance, Coinbase, and Kraken."
   ]
  },
  {
   "cell_type": "code",
   "execution_count": null,
   "metadata": {},
   "outputs": [],
   "source": [
    "# Fetch daily BTC data from multiple exchanges\n",
    "exchanges_data = {}\n",
    "\n",
    "# Binance: BTC/USDT\n",
    "binance_btc = await binance_adapter.fetch(\n",
    "    symbols=['BTC/USDT'],\n",
    "    start_date=pd.Timestamp('2024-01-01'),\n",
    "    end_date=pd.Timestamp('2024-01-31'),\n",
    "    resolution='1d'\n",
    ")\n",
    "exchanges_data['Binance'] = binance_btc\n",
    "\n",
    "# Coinbase: BTC/USD\n",
    "coinbase_btc = await coinbase_adapter.fetch(\n",
    "    symbols=['BTC/USD'],\n",
    "    start_date=pd.Timestamp('2024-01-01'),\n",
    "    end_date=pd.Timestamp('2024-01-31'),\n",
    "    resolution='1d'\n",
    ")\n",
    "exchanges_data['Coinbase'] = coinbase_btc\n",
    "\n",
    "# Kraken: BTC/USD\n",
    "kraken_btc = await kraken_adapter.fetch(\n",
    "    symbols=['BTC/USD'],\n",
    "    start_date=pd.Timestamp('2024-01-01'),\n",
    "    end_date=pd.Timestamp('2024-01-31'),\n",
    "    resolution='1d'\n",
    ")\n",
    "exchanges_data['Kraken'] = kraken_btc\n",
    "\n",
    "print(\"Data fetched from all exchanges:\")\n",
    "for exchange, data in exchanges_data.items():\n",
    "    print(f\"  {exchange}: {len(data)} bars\")"
   ]
  },
  {
   "cell_type": "code",
   "execution_count": null,
   "metadata": {},
   "outputs": [],
   "source": [
    "# Plot price comparison\n",
    "plt.figure(figsize=(14, 7))\n",
    "\n",
    "for exchange, data in exchanges_data.items():\n",
    "    # Convert to pandas for plotting\n",
    "    df_pd = data.to_pandas()\n",
    "    df_pd['close_float'] = df_pd['close'].astype(float)\n",
    "    \n",
    "    plt.plot(df_pd['timestamp'], df_pd['close_float'], label=exchange, linewidth=2)\n",
    "\n",
    "plt.title('BTC Price Comparison Across Exchanges', fontsize=16, fontweight='bold')\n",
    "plt.xlabel('Date', fontsize=12)\n",
    "plt.ylabel('Price (USD)', fontsize=12)\n",
    "plt.legend(fontsize=10)\n",
    "plt.grid(True, alpha=0.3)\n",
    "plt.tight_layout()\n",
    "plt.show()"
   ]
  },
  {
   "cell_type": "markdown",
   "metadata": {},
   "source": [
    "## 5. Simple Moving Average Crossover Strategy\n",
    "\n",
    "Implement a basic SMA crossover strategy:\n",
    "- Buy when short SMA crosses above long SMA\n",
    "- Sell when short SMA crosses below long SMA"
   ]
  },
  {
   "cell_type": "code",
   "execution_count": null,
   "metadata": {},
   "outputs": [],
   "source": [
    "# Calculate moving averages\n",
    "btc_strategy = btc_data.clone()\n",
    "\n",
    "# Convert Decimal to float for rolling calculations\n",
    "btc_strategy = btc_strategy.with_columns([\n",
    "    pl.col('close').cast(pl.Float64).alias('close_float')\n",
    "])\n",
    "\n",
    "# Calculate SMAs\n",
    "btc_strategy = btc_strategy.with_columns([\n",
    "    pl.col('close_float').rolling_mean(window_size=20).alias('sma_20'),\n",
    "    pl.col('close_float').rolling_mean(window_size=50).alias('sma_50'),\n",
    "])\n",
    "\n",
    "# Generate signals\n",
    "btc_strategy = btc_strategy.with_columns([\n",
    "    (pl.col('sma_20') > pl.col('sma_50')).cast(pl.Int32).alias('signal')\n",
    "])\n",
    "\n",
    "# Detect crossovers (signal changes)\n",
    "btc_strategy = btc_strategy.with_columns([\n",
    "    (pl.col('signal') - pl.col('signal').shift(1)).alias('position_change')\n",
    "])\n",
    "\n",
    "print(f\"Strategy data prepared: {len(btc_strategy)} rows\")\n",
    "print(f\"\\nSignal distribution:\")\n",
    "print(btc_strategy.group_by('signal').agg(pl.count()).sort('signal'))"
   ]
  },
  {
   "cell_type": "code",
   "execution_count": null,
   "metadata": {},
   "outputs": [],
   "source": [
    "# Plot strategy signals\n",
    "strategy_pd = btc_strategy.to_pandas()\n",
    "\n",
    "plt.figure(figsize=(14, 7))\n",
    "\n",
    "# Plot price and SMAs\n",
    "plt.plot(strategy_pd['timestamp'], strategy_pd['close_float'], \n",
    "         label='BTC/USDT Price', linewidth=2, alpha=0.7)\n",
    "plt.plot(strategy_pd['timestamp'], strategy_pd['sma_20'], \n",
    "         label='SMA 20', linewidth=1.5, linestyle='--')\n",
    "plt.plot(strategy_pd['timestamp'], strategy_pd['sma_50'], \n",
    "         label='SMA 50', linewidth=1.5, linestyle='--')\n",
    "\n",
    "# Mark buy signals (crossover up)\n",
    "buys = strategy_pd[strategy_pd['position_change'] == 1]\n",
    "plt.scatter(buys['timestamp'], buys['close_float'], \n",
    "           color='green', marker='^', s=200, label='Buy Signal', zorder=5)\n",
    "\n",
    "# Mark sell signals (crossover down)\n",
    "sells = strategy_pd[strategy_pd['position_change'] == -1]\n",
    "plt.scatter(sells['timestamp'], sells['close_float'], \n",
    "           color='red', marker='v', s=200, label='Sell Signal', zorder=5)\n",
    "\n",
    "plt.title('Moving Average Crossover Strategy - BTC/USDT', fontsize=16, fontweight='bold')\n",
    "plt.xlabel('Date', fontsize=12)\n",
    "plt.ylabel('Price (USD)', fontsize=12)\n",
    "plt.legend(fontsize=10)\n",
    "plt.grid(True, alpha=0.3)\n",
    "plt.tight_layout()\n",
    "plt.show()\n",
    "\n",
    "print(f\"\\nTotal buy signals: {len(buys)}\")\n",
    "print(f\"Total sell signals: {len(sells)}\")"
   ]
  },
  {
   "cell_type": "markdown",
   "metadata": {},
   "source": [
    "## 6. Calculate Simple Performance Metrics\n",
    "\n",
    "Calculate basic performance metrics for the strategy."
   ]
  },
  {
   "cell_type": "code",
   "execution_count": null,
   "metadata": {},
   "outputs": [],
   "source": [
    "# Calculate returns\n",
    "btc_strategy = btc_strategy.with_columns([\n",
    "    (pl.col('close_float') / pl.col('close_float').shift(1) - 1).alias('returns')\n",
    "])\n",
    "\n",
    "# Calculate strategy returns (only when signal = 1)\n",
    "btc_strategy = btc_strategy.with_columns([\n",
    "    (pl.col('returns') * pl.col('signal').shift(1)).alias('strategy_returns')\n",
    "])\n",
    "\n",
    "# Remove NaN values\n",
    "btc_strategy_clean = btc_strategy.drop_nulls()\n",
    "\n",
    "# Calculate cumulative returns\n",
    "returns_pd = btc_strategy_clean.to_pandas()\n",
    "returns_pd['cumulative_returns'] = (1 + returns_pd['returns']).cumprod() - 1\n",
    "returns_pd['cumulative_strategy_returns'] = (1 + returns_pd['strategy_returns']).cumprod() - 1\n",
    "\n",
    "# Calculate metrics\n",
    "total_return = returns_pd['cumulative_returns'].iloc[-1]\n",
    "strategy_return = returns_pd['cumulative_strategy_returns'].iloc[-1]\n",
    "\n",
    "print(f\"\\n{'='*50}\")\n",
    "print(f\"Performance Metrics (Jan 2024)\")\n",
    "print(f\"{'='*50}\")\n",
    "print(f\"Buy & Hold Return:    {total_return*100:>8.2f}%\")\n",
    "print(f\"Strategy Return:      {strategy_return*100:>8.2f}%\")\n",
    "print(f\"Outperformance:       {(strategy_return - total_return)*100:>8.2f}%\")\n",
    "print(f\"{'='*50}\")"
   ]
  },
  {
   "cell_type": "code",
   "execution_count": null,
   "metadata": {},
   "outputs": [],
   "source": [
    "# Plot cumulative returns\n",
    "plt.figure(figsize=(14, 7))\n",
    "\n",
    "plt.plot(returns_pd['timestamp'], returns_pd['cumulative_returns'] * 100, \n",
    "         label='Buy & Hold', linewidth=2)\n",
    "plt.plot(returns_pd['timestamp'], returns_pd['cumulative_strategy_returns'] * 100, \n",
    "         label='SMA Crossover Strategy', linewidth=2)\n",
    "\n",
    "plt.title('Cumulative Returns Comparison', fontsize=16, fontweight='bold')\n",
    "plt.xlabel('Date', fontsize=12)\n",
    "plt.ylabel('Cumulative Return (%)', fontsize=12)\n",
    "plt.legend(fontsize=10)\n",
    "plt.grid(True, alpha=0.3)\n",
    "plt.axhline(y=0, color='black', linestyle='-', linewidth=0.5)\n",
    "plt.tight_layout()\n",
    "plt.show()"
   ]
  },
  {
   "cell_type": "markdown",
   "metadata": {},
   "source": [
    "## 7. CCXT Adapter Configuration Options\n",
    "\n",
    "The CCXTAdapter supports various configuration options:"
   ]
  },
  {
   "cell_type": "code",
   "execution_count": null,
   "metadata": {},
   "outputs": [],
   "source": [
    "# Example: Using testnet mode (if available)\n",
    "testnet_adapter = CCXTAdapter(\n",
    "    exchange_id='binance',\n",
    "    testnet=True\n",
    ")\n",
    "print(f\"Testnet adapter: {testnet_adapter.name}\")\n",
    "\n",
    "# Example: With API credentials (for private endpoints)\n",
    "# authenticated_adapter = CCXTAdapter(\n",
    "#     exchange_id='binance',\n",
    "#     api_key='your_api_key',\n",
    "#     api_secret='your_api_secret'\n",
    "# )\n",
    "\n",
    "# Supported resolutions\n",
    "print(f\"\\nSupported resolutions: {list(binance_adapter.RESOLUTION_MAPPING.keys())}\")\n",
    "\n",
    "# Rate limiting is automatically handled\n",
    "print(f\"\\nRate limiter stats:\")\n",
    "print(f\"  Requests made: {binance_adapter.rate_limiter.requests_made}\")\n",
    "print(f\"  Throttle events: {binance_adapter.rate_limiter.throttle_events}\")"
   ]
  },
  {
   "cell_type": "markdown",
   "metadata": {},
   "source": [
    "## Summary\n",
    "\n",
    "This notebook demonstrated:\n",
    "\n",
    "1. ✅ **Data Fetching**: Retrieved crypto OHLCV data from multiple exchanges\n",
    "2. ✅ **Data Validation**: Verified data quality and OHLCV relationships\n",
    "3. ✅ **Multi-Exchange Comparison**: Compared prices across Binance, Coinbase, and Kraken\n",
    "4. ✅ **Strategy Implementation**: Built a simple moving average crossover strategy\n",
    "5. ✅ **Performance Analysis**: Calculated and visualized strategy returns\n",
    "\n",
    "### Next Steps\n",
    "\n",
    "- Implement more sophisticated strategies (RSI, MACD, Bollinger Bands)\n",
    "- Add transaction costs and slippage\n",
    "- Use RustyBT's full backtesting engine for complete portfolio simulation\n",
    "- Optimize strategy parameters using walk-forward analysis\n",
    "- Test on multiple cryptocurrencies and timeframes"
   ]
  }
 ],
 "metadata": {
  "kernelspec": {
   "display_name": "Python 3",
   "language": "python",
   "name": "python3"
  },
  "language_info": {
   "codemirror_mode": {
    "name": "ipython",
    "version": 3
   },
   "file_extension": ".py",
   "mimetype": "text/x-python",
   "name": "python",
   "nbconvert_exporter": "python",
   "pygments_lexer": "ipython3",
   "version": "3.12.0"
  }
 },
 "nbformat": 4,
 "nbformat_minor": 4
}
